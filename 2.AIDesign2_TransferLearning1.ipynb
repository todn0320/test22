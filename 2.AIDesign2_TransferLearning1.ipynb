{
  "nbformat": 4,
  "nbformat_minor": 0,
  "metadata": {
    "colab": {
      "provenance": [],
      "private_outputs": true
    },
    "kernelspec": {
      "name": "python3",
      "display_name": "Python 3"
    },
    "language_info": {
      "name": "python"
    },
    "gpuClass": "standard"
  },
  "cells": [
    {
      "cell_type": "markdown",
      "source": [
        "# AI Design2 - Transfer learning 1 실습\n",
        "\n",
        "---"
      ],
      "metadata": {
        "id": "GSPcZVAL2tca"
      }
    },
    {
      "cell_type": "markdown",
      "source": [
        "**1. 구글드라이브 마운트**\n",
        "\n",
        "아래 코드 실행 후 파일 탭에서 폴더 새로고침하면 drive폴더 확인 가능\n",
        "\n",
        "혹은 왼쪽 폴더 탭에서 drive mount 버튼 눌러서도 가능"
      ],
      "metadata": {
        "id": "Tv-IizFz3gC4"
      }
    },
    {
      "cell_type": "code",
      "source": [
        "from google.colab import drive\n",
        "drive.mount('/content/drive')"
      ],
      "metadata": {
        "id": "BcKvJzZ33Wah"
      },
      "execution_count": null,
      "outputs": []
    },
    {
      "cell_type": "markdown",
      "source": [
        "**2. 필요한 라이브러리 import**"
      ],
      "metadata": {
        "id": "XjTaPZ483wxi"
      }
    },
    {
      "cell_type": "code",
      "source": [
        "from keras.models import load_model\n",
        "from PIL import Image, ImageOps\n",
        "import numpy as np"
      ],
      "metadata": {
        "id": "mgGW7IX_2iEw"
      },
      "execution_count": null,
      "outputs": []
    },
    {
      "cell_type": "markdown",
      "source": [
        "**3. Load model and labels**"
      ],
      "metadata": {
        "id": "Z6y4i_vV4X11"
      }
    },
    {
      "cell_type": "code",
      "source": [
        "# Load the model\n",
        "model = load_model('/content/drive/MyDrive/converted_keras/keras_model.h5')"
      ],
      "metadata": {
        "id": "amc4o6R630hB"
      },
      "execution_count": null,
      "outputs": []
    },
    {
      "cell_type": "code",
      "source": [
        "# Load labels\n",
        "f = open(\"/content/drive/MyDrive/converted_keras/labels.txt\", 'r')\n",
        "labels = []\n",
        "while True:\n",
        "    line = f.readline()\n",
        "    if not line: break\n",
        "    labels.append(line.split()[1])\n",
        "\n",
        "f.close()\n",
        "print(labels)"
      ],
      "metadata": {
        "id": "vt_A5Vx9C0fn"
      },
      "execution_count": null,
      "outputs": []
    },
    {
      "cell_type": "markdown",
      "source": [
        "3-1. 저장된 모델 architecture 확인\n",
        "\n",
        "\n"
      ],
      "metadata": {
        "id": "QTS_aTB96rF4"
      }
    },
    {
      "cell_type": "code",
      "source": [
        "print(model.summary())"
      ],
      "metadata": {
        "id": "jL0NkymK6lj0"
      },
      "execution_count": null,
      "outputs": []
    },
    {
      "cell_type": "markdown",
      "source": [
        "3-2. Model architecture visualization\n",
        "\n",
        "expand_nested=True 를 사용하면 구조를 디테일 하게 시각화 가능"
      ],
      "metadata": {
        "id": "uyYLAs6T68Da"
      }
    },
    {
      "cell_type": "code",
      "source": [
        "import tensorflow\n",
        "from tensorflow.keras.utils import plot_model\n",
        "plot_model(model, show_shapes=True, expand_nested=True)"
      ],
      "metadata": {
        "id": "OPYFI4Nt4wc1"
      },
      "execution_count": null,
      "outputs": []
    },
    {
      "cell_type": "markdown",
      "source": [
        "**4. 입력할 이미지의 크기 세팅**"
      ],
      "metadata": {
        "id": "yT4GXvGw8wrR"
      }
    },
    {
      "cell_type": "code",
      "source": [
        "# Create the array of the right shape to feed into the keras model\n",
        "# The 'length' or number of images you can put into the array is\n",
        "# determined by the first position in the shape tuple, in this case 1.\n",
        "data = np.ndarray(shape=(1, 224, 224, 3), dtype=np.float32)"
      ],
      "metadata": {
        "id": "rx8jlJq54nm5"
      },
      "execution_count": null,
      "outputs": []
    },
    {
      "cell_type": "markdown",
      "source": [
        "**5. 테스트 이미지 로드**\n",
        "\n",
        "5-1. 이미지 로드\n",
        "\n",
        "이미지 로드를 위해서는 테스트할 파일의 경로를 잘 설정해야 합니다.\n",
        "\n",
        "구글 드라이브 경로는 기본적으로 아래와 같습니다.\n",
        "\n",
        "/content/drive/MyDrive"
      ],
      "metadata": {
        "id": "ZX99ZJD38zvX"
      }
    },
    {
      "cell_type": "code",
      "source": [
        "# Replace this with the path to your image\n",
        "image = Image.open('/content/drive/MyDrive/AIDesign2_TL1_TestImage.jpg')"
      ],
      "metadata": {
        "id": "cSN5B3OU81k-"
      },
      "execution_count": null,
      "outputs": []
    },
    {
      "cell_type": "code",
      "source": [
        "import matplotlib.pyplot as plt\n",
        "plt.imshow(image)\n",
        "plt.axis('off')"
      ],
      "metadata": {
        "id": "O-o0YU2b_ccW"
      },
      "execution_count": null,
      "outputs": []
    },
    {
      "cell_type": "markdown",
      "source": [
        "5-2. 이미지를 네트워크 입력에 맞게 조정"
      ],
      "metadata": {
        "id": "M4uln3ti9FLS"
      }
    },
    {
      "cell_type": "code",
      "source": [
        "#resize the image to a 224x224 with the same strategy as in TM2:\n",
        "#resizing the image to be at least 224x224 and then cropping from the center\n",
        "size = (224, 224)\n",
        "image = ImageOps.fit(image, size, Image.ANTIALIAS)\n",
        "\n",
        "#turn the image into a numpy array\n",
        "image_array = np.asarray(image)\n",
        "# Normalize the image\n",
        "normalized_image_array = (image_array.astype(np.float32) / 127.0) - 1\n",
        "# Load the image into the array\n",
        "data[0] = normalized_image_array"
      ],
      "metadata": {
        "id": "hI8T-v-R9Jo0"
      },
      "execution_count": null,
      "outputs": []
    },
    {
      "cell_type": "markdown",
      "source": [
        "**6. 이미지 테스트 및 결과 출력**"
      ],
      "metadata": {
        "id": "S4IBfHi09LJS"
      }
    },
    {
      "cell_type": "code",
      "source": [
        "# run the inference\n",
        "prediction = model.predict(data)\n",
        "predictionLen = prediction.shape\n",
        "i = 0\n",
        "while i < predictionLen[1]:\n",
        "  print(f'{labels[i]} 확률: {prediction[0][i]*100:.2f} %')\n",
        "  i += 1\n",
        "print('')\n",
        "print(f'예측결과: {labels[np.array(prediction).argmax()]}')"
      ],
      "metadata": {
        "id": "XRg9ZMwt9Q7a"
      },
      "execution_count": null,
      "outputs": []
    },
    {
      "cell_type": "markdown",
      "source": [
        "# 7. 원본(에 가까운) 모델"
      ],
      "metadata": {
        "id": "ptfW0j6c4I4w"
      }
    },
    {
      "cell_type": "code",
      "source": [
        "mobNet = tensorflow.keras.applications.MobileNetV2(\n",
        "    input_shape=(224,224,3),\n",
        "    alpha=1.0,\n",
        "    include_top=True, # whether include FC layer\n",
        "    weights=\"imagenet\",\n",
        "    input_tensor=None,\n",
        "    pooling=None,\n",
        "    classes=1000,\n",
        "    classifier_activation=\"softmax\"\n",
        ")"
      ],
      "metadata": {
        "id": "-Yynj9A34M3T"
      },
      "execution_count": null,
      "outputs": []
    },
    {
      "cell_type": "code",
      "source": [
        "mobNet.summary()"
      ],
      "metadata": {
        "id": "q3bH_eIa4bxQ"
      },
      "execution_count": null,
      "outputs": []
    },
    {
      "cell_type": "code",
      "source": [
        "plot_model(mobNet, show_shapes=True, expand_nested=True)"
      ],
      "metadata": {
        "id": "VKM9WJmS4cUh"
      },
      "execution_count": null,
      "outputs": []
    }
  ]
}